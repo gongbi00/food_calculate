{
  "nbformat": 4,
  "nbformat_minor": 0,
  "metadata": {
    "colab": {
      "name": "10weeks-mnist-app.ipynb",
      "provenance": [],
      "collapsed_sections": []
    },
    "kernelspec": {
      "name": "python3",
      "display_name": "Python 3"
    },
    "language_info": {
      "name": "python"
    }
  },
  "cells": [
    {
      "cell_type": "code",
      "metadata": {
        "id": "jo8wUBRpgAC_",
        "colab": {
          "base_uri": "https://localhost:8080/"
        },
        "outputId": "3183ea3e-7be9-42d6-a047-19d6b30c1bb7"
      },
      "source": [
        "from google.colab import drive\n",
        "drive.mount('/gdrive', force_remount=True)"
      ],
      "execution_count": 1,
      "outputs": [
        {
          "output_type": "stream",
          "name": "stdout",
          "text": [
            "Mounted at /gdrive\n"
          ]
        }
      ]
    },
    {
      "cell_type": "code",
      "metadata": {
        "id": "P9X5E2SJgDAA"
      },
      "source": [
        "from keras.models import load_model"
      ],
      "execution_count": 2,
      "outputs": []
    },
    {
      "cell_type": "code",
      "metadata": {
        "id": "wq6pVdqGgKh7"
      },
      "source": [
        "# 학습된 모델 불러오기\n",
        "model = load_model('/gdrive/My Drive/Colab Notebooks/10주차/mnist.model.h5')"
      ],
      "execution_count": 3,
      "outputs": []
    },
    {
      "cell_type": "code",
      "metadata": {
        "colab": {
          "base_uri": "https://localhost:8080/"
        },
        "id": "fRCKAri43b5Z",
        "outputId": "f023a229-35b0-4c91-f4ec-5a453b4da50a"
      },
      "source": [
        "model.summary()"
      ],
      "execution_count": 4,
      "outputs": [
        {
          "output_type": "stream",
          "name": "stdout",
          "text": [
            "Model: \"sequential\"\n",
            "_________________________________________________________________\n",
            " Layer (type)                Output Shape              Param #   \n",
            "=================================================================\n",
            " dense (Dense)               (None, 256)               200960    \n",
            "                                                                 \n",
            " dense_1 (Dense)             (None, 256)               65792     \n",
            "                                                                 \n",
            " dense_2 (Dense)             (None, 128)               32896     \n",
            "                                                                 \n",
            " dense_3 (Dense)             (None, 10)                1290      \n",
            "                                                                 \n",
            "=================================================================\n",
            "Total params: 300,938\n",
            "Trainable params: 300,938\n",
            "Non-trainable params: 0\n",
            "_________________________________________________________________\n"
          ]
        }
      ]
    },
    {
      "cell_type": "code",
      "metadata": {
        "id": "b562hQgVgOBt"
      },
      "source": [
        "import cv2\n",
        "import matplotlib.pyplot as plt"
      ],
      "execution_count": 5,
      "outputs": []
    },
    {
      "cell_type": "code",
      "metadata": {
        "id": "XhSfhuvQgXqr",
        "colab": {
          "base_uri": "https://localhost:8080/",
          "height": 282
        },
        "outputId": "d1f8f398-f202-45fc-95f3-b3e9b068e72a"
      },
      "source": [
        "# 테스트할 이미지 확인하기\n",
        "width = 28\n",
        "height = 28\n",
        "test_num = plt.imread('/gdrive/My Drive/Colab Notebooks/10주차/my/color.jpg')\n",
        "plt.imshow(test_num)"
      ],
      "execution_count": 6,
      "outputs": [
        {
          "output_type": "execute_result",
          "data": {
            "text/plain": [
              "<matplotlib.image.AxesImage at 0x7f1a000e1650>"
            ]
          },
          "metadata": {},
          "execution_count": 6
        },
        {
          "output_type": "display_data",
          "data": {
            "image/png": "[encoded data removed]",
            "text/plain": [
              "<Figure size 432x288 with 1 Axes>"
            ]
          },
          "metadata": {
            "needs_background": "light"
          }
        }
      ]
    },
    {
      "cell_type": "code",
      "metadata": {
        "id": "kASxLVoEgnLb",
        "colab": {
          "base_uri": "https://localhost:8080/"
        },
        "outputId": "52c9dc3f-0f55-448d-d766-3988a9fc91b5"
      },
      "source": [
        "# 컬러 이미지를 흑백 이미지로 변환\n",
        "test_num = cv2.cvtColor(test_num, cv2.COLOR_BGR2GRAY)\n",
        "test_num.shape"
      ],
      "execution_count": 7,
      "outputs": [
        {
          "output_type": "execute_result",
          "data": {
            "text/plain": [
              "(28, 28)"
            ]
          },
          "metadata": {},
          "execution_count": 7
        }
      ]
    },
    {
      "cell_type": "code",
      "metadata": {
        "id": "kjs3OsDWgpNz",
        "colab": {
          "base_uri": "https://localhost:8080/"
        },
        "outputId": "aa63593d-acee-4baa-cb96-ee09939d6ca3"
      },
      "source": [
        "# 모델이 예측한 값 확인하기\n",
        "test_num = test_num.reshape(1, width*height).astype('float32') / 255.0\n",
        "print('Prediction : ', model.predict(test_num))\n"
      ],
      "execution_count": 8,
      "outputs": [
        {
          "output_type": "stream",
          "name": "stdout",
          "text": [
            "Prediction :  [[1.6686960e-31 8.3776446e-33 7.3309590e-17 7.5058334e-26 3.3107005e-28\n",
            "  3.1790800e-14 1.0000000e+00 9.4706171e-33 5.1161760e-13 2.9384139e-29]]\n"
          ]
        }
      ]
    },
    {
      "cell_type": "code",
      "metadata": {
        "id": "wj__ocrigrSD",
        "colab": {
          "base_uri": "https://localhost:8080/"
        },
        "outputId": "465392ab-18c5-4632-bb13-2e0f4f2d8491"
      },
      "source": [
        "import numpy as np\n",
        "\n",
        "# 클래스 확인하기\n",
        "x = model.predict(test_num)\n",
        "class_x = np.argmax(x, axis=1)\n",
        "class_x"
      ],
      "execution_count": 9,
      "outputs": [
        {
          "output_type": "execute_result",
          "data": {
            "text/plain": [
              "array([6])"
            ]
          },
          "metadata": {},
          "execution_count": 9
        }
      ]
    },
    {
      "cell_type": "code",
      "metadata": {
        "id": "Y11Pa3_DhU0S",
        "colab": {
          "base_uri": "https://localhost:8080/",
          "height": 716
        },
        "outputId": "1c96020d-e027-44a7-fefe-8230146078df"
      },
      "source": [
        "# 흑백 이미지 확인\n",
        "plt.figure(figsize=(12, 12))\n",
        "\n",
        "for i in range(9):\n",
        "  plt.subplot(3, 3, i+1)\n",
        "  img_path = '/gdrive/My Drive/Colab Notebooks/10주차/my/my_' + str(i+1) + '.jpg'\n",
        "  test_num = plt.imread(img_path)\n",
        "  plt.imshow(test_num, cmap='gray')\n",
        "  test_num = test_num.reshape(1, width*height).astype('float32') / 255.0\n",
        "  tmp = 'Prediction : ' + str(np.argmax(model.predict(test_num), axis=1))\n",
        "  plt.title(tmp)\n",
        "\n",
        "plt.show()"
      ],
      "execution_count": 12,
      "outputs": [
        {
          "output_type": "display_data",
          "data": {
            "image/png": "[encoded data removed]",
            "text/plain": [
              "<Figure size 864x864 with 9 Axes>"
            ]
          },
          "metadata": {
            "needs_background": "light"
          }
        }
      ]
    },
    {
      "cell_type": "code",
      "metadata": {
        "id": "_4lXLvwvhlfM"
      },
      "source": [
        "test_num.shape"
      ],
      "execution_count": null,
      "outputs": []
    },
    {
      "cell_type": "code",
      "metadata": {
        "id": "h_tu-1vlhmeR"
      },
      "source": [
        "plt.figure(figsize=(12,12))\n",
        "\n",
        "# 흑백 이미지들에 대한 예측값 확인하기\n",
        "\n",
        "plt.show()"
      ],
      "execution_count": null,
      "outputs": []
    }
  ]
}